{
 "cells": [
  {
   "cell_type": "code",
   "execution_count": 109,
   "metadata": {},
   "outputs": [],
   "source": [
    "# importing the required dependencies\n",
    "\n",
    "import pandas as pd # python's library for data manipulation and preprocessing\n",
    "import numpy as np  # python's library for number crunching\n",
    "\n",
    "import matplotlib            # python's library for visualisation\n",
    "import matplotlib.pyplot as plt\n",
    "plt.rcParams['axes.labelsize'] = 14\n",
    "plt.rcParams['xtick.labelsize'] = 12\n",
    "plt.rcParams['ytick.labelsize'] = 12\n",
    "\n",
    "\n",
    "import seaborn as sns        # also python's library for visualisations\n",
    "color = sns.color_palette()\n",
    "sns.set_style('darkgrid')\n",
    "\n",
    "\n",
    "import sklearn                #python's machine learning library\n",
    "from sklearn.model_selection import train_test_split"
   ]
  },
  {
   "cell_type": "code",
   "execution_count": 110,
   "metadata": {},
   "outputs": [
    {
     "data": {
      "text/html": [
       "<div>\n",
       "<style scoped>\n",
       "    .dataframe tbody tr th:only-of-type {\n",
       "        vertical-align: middle;\n",
       "    }\n",
       "\n",
       "    .dataframe tbody tr th {\n",
       "        vertical-align: top;\n",
       "    }\n",
       "\n",
       "    .dataframe thead th {\n",
       "        text-align: right;\n",
       "    }\n",
       "</style>\n",
       "<table border=\"1\" class=\"dataframe\">\n",
       "  <thead>\n",
       "    <tr style=\"text-align: right;\">\n",
       "      <th></th>\n",
       "      <th>longitude</th>\n",
       "      <th>latitude</th>\n",
       "      <th>housing_median_age</th>\n",
       "      <th>total_rooms</th>\n",
       "      <th>total_bedrooms</th>\n",
       "      <th>population</th>\n",
       "      <th>households</th>\n",
       "      <th>median_income</th>\n",
       "      <th>median_house_value</th>\n",
       "      <th>ocean_proximity</th>\n",
       "    </tr>\n",
       "  </thead>\n",
       "  <tbody>\n",
       "    <tr>\n",
       "      <th>0</th>\n",
       "      <td>-122.23</td>\n",
       "      <td>37.88</td>\n",
       "      <td>41.0</td>\n",
       "      <td>880.0</td>\n",
       "      <td>129.0</td>\n",
       "      <td>322.0</td>\n",
       "      <td>126.0</td>\n",
       "      <td>8.3252</td>\n",
       "      <td>452600.0</td>\n",
       "      <td>NEAR BAY</td>\n",
       "    </tr>\n",
       "    <tr>\n",
       "      <th>1</th>\n",
       "      <td>-122.22</td>\n",
       "      <td>37.86</td>\n",
       "      <td>21.0</td>\n",
       "      <td>7099.0</td>\n",
       "      <td>1106.0</td>\n",
       "      <td>2401.0</td>\n",
       "      <td>1138.0</td>\n",
       "      <td>8.3014</td>\n",
       "      <td>358500.0</td>\n",
       "      <td>NEAR BAY</td>\n",
       "    </tr>\n",
       "    <tr>\n",
       "      <th>2</th>\n",
       "      <td>-122.24</td>\n",
       "      <td>37.85</td>\n",
       "      <td>52.0</td>\n",
       "      <td>1467.0</td>\n",
       "      <td>190.0</td>\n",
       "      <td>496.0</td>\n",
       "      <td>177.0</td>\n",
       "      <td>7.2574</td>\n",
       "      <td>352100.0</td>\n",
       "      <td>NEAR BAY</td>\n",
       "    </tr>\n",
       "    <tr>\n",
       "      <th>3</th>\n",
       "      <td>-122.25</td>\n",
       "      <td>37.85</td>\n",
       "      <td>52.0</td>\n",
       "      <td>1274.0</td>\n",
       "      <td>235.0</td>\n",
       "      <td>558.0</td>\n",
       "      <td>219.0</td>\n",
       "      <td>5.6431</td>\n",
       "      <td>341300.0</td>\n",
       "      <td>NEAR BAY</td>\n",
       "    </tr>\n",
       "    <tr>\n",
       "      <th>4</th>\n",
       "      <td>-122.25</td>\n",
       "      <td>37.85</td>\n",
       "      <td>52.0</td>\n",
       "      <td>1627.0</td>\n",
       "      <td>280.0</td>\n",
       "      <td>565.0</td>\n",
       "      <td>259.0</td>\n",
       "      <td>3.8462</td>\n",
       "      <td>342200.0</td>\n",
       "      <td>NEAR BAY</td>\n",
       "    </tr>\n",
       "  </tbody>\n",
       "</table>\n",
       "</div>"
      ],
      "text/plain": [
       "   longitude  latitude  housing_median_age  total_rooms  total_bedrooms  \\\n",
       "0    -122.23     37.88                41.0        880.0           129.0   \n",
       "1    -122.22     37.86                21.0       7099.0          1106.0   \n",
       "2    -122.24     37.85                52.0       1467.0           190.0   \n",
       "3    -122.25     37.85                52.0       1274.0           235.0   \n",
       "4    -122.25     37.85                52.0       1627.0           280.0   \n",
       "\n",
       "   population  households  median_income  median_house_value ocean_proximity  \n",
       "0       322.0       126.0         8.3252            452600.0        NEAR BAY  \n",
       "1      2401.0      1138.0         8.3014            358500.0        NEAR BAY  \n",
       "2       496.0       177.0         7.2574            352100.0        NEAR BAY  \n",
       "3       558.0       219.0         5.6431            341300.0        NEAR BAY  \n",
       "4       565.0       259.0         3.8462            342200.0        NEAR BAY  "
      ]
     },
     "execution_count": 110,
     "metadata": {},
     "output_type": "execute_result"
    }
   ],
   "source": [
    "housing = pd.read_csv('housing.csv')   # reading the data into a pandas dataframe\n",
    "housing.head()                         # calling the first five rows of the dataset"
   ]
  },
  {
   "cell_type": "code",
   "execution_count": 111,
   "metadata": {},
   "outputs": [
    {
     "name": "stdout",
     "output_type": "stream",
     "text": [
      "<class 'pandas.core.frame.DataFrame'>\n",
      "RangeIndex: 20640 entries, 0 to 20639\n",
      "Data columns (total 10 columns):\n",
      "longitude             20640 non-null float64\n",
      "latitude              20640 non-null float64\n",
      "housing_median_age    20640 non-null float64\n",
      "total_rooms           20640 non-null float64\n",
      "total_bedrooms        20433 non-null float64\n",
      "population            20640 non-null float64\n",
      "households            20640 non-null float64\n",
      "median_income         20640 non-null float64\n",
      "median_house_value    20640 non-null float64\n",
      "ocean_proximity       20640 non-null object\n",
      "dtypes: float64(9), object(1)\n",
      "memory usage: 1.6+ MB\n"
     ]
    }
   ],
   "source": [
    "housing.info()  # exploratory analysis"
   ]
  },
  {
   "cell_type": "code",
   "execution_count": 112,
   "metadata": {},
   "outputs": [
    {
     "data": {
      "text/plain": [
       "<matplotlib.axes._subplots.AxesSubplot at 0x23973e978>"
      ]
     },
     "execution_count": 112,
     "metadata": {},
     "output_type": "execute_result"
    },
    {
     "data": {
      "image/png": "[encoded data removed]",
      "text/plain": [
       "<matplotlib.figure.Figure at 0x239335940>"
      ]
     },
     "metadata": {},
     "output_type": "display_data"
    }
   ],
   "source": [
    "correlation_matrix = housing.corr()   #creating a heatmap of the attributes in the dataset\n",
    "plt.subplots(figsize=(8,6))\n",
    "sns.heatmap(correlation_matrix, center=0, annot=True, linewidths=.3)"
   ]
  },
  {
   "cell_type": "code",
   "execution_count": 113,
   "metadata": {},
   "outputs": [
    {
     "data": {
      "text/plain": [
       "median_house_value    1.000000\n",
       "median_income         0.688075\n",
       "total_rooms           0.134153\n",
       "housing_median_age    0.105623\n",
       "households            0.065843\n",
       "total_bedrooms        0.049686\n",
       "population           -0.024650\n",
       "longitude            -0.045967\n",
       "latitude             -0.144160\n",
       "Name: median_house_value, dtype: float64"
      ]
     },
     "execution_count": 113,
     "metadata": {},
     "output_type": "execute_result"
    }
   ],
   "source": [
    "corr = housing.corr()      # showing correlations by target variable\n",
    "corr['median_house_value'].sort_values(ascending=False)"
   ]
  },
  {
   "cell_type": "code",
   "execution_count": 114,
   "metadata": {},
   "outputs": [
    {
     "data": {
      "image/png": "[encoded data removed]",
      "text/plain": [
       "<matplotlib.figure.Figure at 0x23973e668>"
      ]
     },
     "metadata": {},
     "output_type": "display_data"
    }
   ],
   "source": [
    "sns.distplot(housing.median_income) # showing the distribution of the median_income variable in the dataset\n",
    "plt.show()                                  # check the distplot params though. see how you can make it prettier"
   ]
  },
  {
   "cell_type": "markdown",
   "metadata": {},
   "source": [
    "##  Random Sampling method"
   ]
  },
  {
   "cell_type": "code",
   "execution_count": 115,
   "metadata": {},
   "outputs": [],
   "source": [
    "train_set, test_set = train_test_split(housing, test_size=0.4, random_state=42)  # uaing the same random split value of 42 i used for stratifed sampling in the other notebook"
   ]
  },
  {
   "cell_type": "code",
   "execution_count": 116,
   "metadata": {},
   "outputs": [
    {
     "data": {
      "text/plain": [
       "9012     448100.0\n",
       "2769      53800.0\n",
       "1953     111300.0\n",
       "16897    500001.0\n",
       "17866    252200.0\n",
       "Name: median_house_value, dtype: float64"
      ]
     },
     "execution_count": 116,
     "metadata": {},
     "output_type": "execute_result"
    }
   ],
   "source": [
    "housing = train_set.drop('median_house_value', axis=1)   # creating the trainset and droping the label / Target column\n",
    "housing_labels =  train_set['median_house_value'].copy()\n",
    "housing_labels.head()"
   ]
  },
  {
   "cell_type": "code",
   "execution_count": 123,
   "metadata": {},
   "outputs": [
    {
     "data": {
      "text/plain": [
       "longitude             0\n",
       "latitude              0\n",
       "housing_median_age    0\n",
       "total_rooms           0\n",
       "total_bedrooms        0\n",
       "population            0\n",
       "households            0\n",
       "median_income         0\n",
       "median_house_value    0\n",
       "ocean_proximity       0\n",
       "dtype: int64"
      ]
     },
     "execution_count": 123,
     "metadata": {},
     "output_type": "execute_result"
    }
   ],
   "source": [
    "rows_missing_data = train_set.isnull().any()  # checking the dataframe for missing values\n",
    "train_set.isnull().sum()                       # so after splitting with random sampling. no missing row in the trainset. wow! cool"
   ]
  },
  {
   "cell_type": "code",
   "execution_count": 124,
   "metadata": {},
   "outputs": [
    {
     "data": {
      "text/html": [
       "<div>\n",
       "<style scoped>\n",
       "    .dataframe tbody tr th:only-of-type {\n",
       "        vertical-align: middle;\n",
       "    }\n",
       "\n",
       "    .dataframe tbody tr th {\n",
       "        vertical-align: top;\n",
       "    }\n",
       "\n",
       "    .dataframe thead th {\n",
       "        text-align: right;\n",
       "    }\n",
       "</style>\n",
       "<table border=\"1\" class=\"dataframe\">\n",
       "  <thead>\n",
       "    <tr style=\"text-align: right;\">\n",
       "      <th></th>\n",
       "      <th>longitude</th>\n",
       "      <th>latitude</th>\n",
       "      <th>housing_median_age</th>\n",
       "      <th>total_rooms</th>\n",
       "      <th>total_bedrooms</th>\n",
       "      <th>population</th>\n",
       "      <th>households</th>\n",
       "      <th>median_income</th>\n",
       "    </tr>\n",
       "  </thead>\n",
       "  <tbody>\n",
       "    <tr>\n",
       "      <th>9012</th>\n",
       "      <td>-118.63</td>\n",
       "      <td>34.11</td>\n",
       "      <td>35.0</td>\n",
       "      <td>3795.0</td>\n",
       "      <td>690.0</td>\n",
       "      <td>1521.0</td>\n",
       "      <td>653.0</td>\n",
       "      <td>5.8735</td>\n",
       "    </tr>\n",
       "    <tr>\n",
       "      <th>2769</th>\n",
       "      <td>-115.98</td>\n",
       "      <td>33.32</td>\n",
       "      <td>8.0</td>\n",
       "      <td>240.0</td>\n",
       "      <td>46.0</td>\n",
       "      <td>63.0</td>\n",
       "      <td>24.0</td>\n",
       "      <td>1.4688</td>\n",
       "    </tr>\n",
       "    <tr>\n",
       "      <th>1953</th>\n",
       "      <td>-120.78</td>\n",
       "      <td>38.74</td>\n",
       "      <td>28.0</td>\n",
       "      <td>4236.0</td>\n",
       "      <td>877.0</td>\n",
       "      <td>2008.0</td>\n",
       "      <td>881.0</td>\n",
       "      <td>2.1603</td>\n",
       "    </tr>\n",
       "    <tr>\n",
       "      <th>16897</th>\n",
       "      <td>-122.37</td>\n",
       "      <td>37.58</td>\n",
       "      <td>43.0</td>\n",
       "      <td>2506.0</td>\n",
       "      <td>432.0</td>\n",
       "      <td>967.0</td>\n",
       "      <td>428.0</td>\n",
       "      <td>4.7404</td>\n",
       "    </tr>\n",
       "    <tr>\n",
       "      <th>17866</th>\n",
       "      <td>-121.92</td>\n",
       "      <td>37.45</td>\n",
       "      <td>10.0</td>\n",
       "      <td>3937.0</td>\n",
       "      <td>1054.0</td>\n",
       "      <td>2032.0</td>\n",
       "      <td>1002.0</td>\n",
       "      <td>3.2617</td>\n",
       "    </tr>\n",
       "  </tbody>\n",
       "</table>\n",
       "</div>"
      ],
      "text/plain": [
       "       longitude  latitude  housing_median_age  total_rooms  total_bedrooms  \\\n",
       "9012     -118.63     34.11                35.0       3795.0           690.0   \n",
       "2769     -115.98     33.32                 8.0        240.0            46.0   \n",
       "1953     -120.78     38.74                28.0       4236.0           877.0   \n",
       "16897    -122.37     37.58                43.0       2506.0           432.0   \n",
       "17866    -121.92     37.45                10.0       3937.0          1054.0   \n",
       "\n",
       "       population  households  median_income  \n",
       "9012       1521.0       653.0         5.8735  \n",
       "2769         63.0        24.0         1.4688  \n",
       "1953       2008.0       881.0         2.1603  \n",
       "16897       967.0       428.0         4.7404  \n",
       "17866      2032.0      1002.0         3.2617  "
      ]
     },
     "execution_count": 124,
     "metadata": {},
     "output_type": "execute_result"
    }
   ],
   "source": [
    "# creating an sklearn IMPUTER class for replacing missing values.\n",
    "\n",
    "from sklearn.preprocessing import Imputer\n",
    "# instantiate the class\n",
    "imputer = Imputer(strategy='median')\n",
    "\n",
    "#since the housing dataset has a categorical column you should drop it since the imputer class\n",
    "#works on only numerical or quantitative variables.\n",
    "\n",
    "housing_num = housing.drop('ocean_proximity', axis=1)\n",
    "housing_num.head()"
   ]
  },
  {
   "cell_type": "code",
   "execution_count": 125,
   "metadata": {},
   "outputs": [
    {
     "data": {
      "text/plain": [
       "Imputer(axis=0, copy=True, missing_values='NaN', strategy='median', verbose=0)"
      ]
     },
     "execution_count": 125,
     "metadata": {},
     "output_type": "execute_result"
    }
   ],
   "source": [
    "# after dropping the categorical column the next thing is to fit the training data\n",
    "\n",
    "imputer.fit(housing_num)"
   ]
  },
  {
   "cell_type": "code",
   "execution_count": 120,
   "metadata": {},
   "outputs": [
    {
     "data": {
      "text/plain": [
       "array([-118.52  ,   34.27  ,   29.    , 2139.5   ,  437.    , 1172.    ,\n",
       "        413.    ,    3.5313])"
      ]
     },
     "execution_count": 120,
     "metadata": {},
     "output_type": "execute_result"
    }
   ],
   "source": [
    "imputer.statistics_  # all the median values of all categories are stored in statistics_"
   ]
  },
  {
   "cell_type": "code",
   "execution_count": 121,
   "metadata": {},
   "outputs": [],
   "source": [
    "X = imputer.transform(housing_num) # its in an array that needs to be converted to a dataframe"
   ]
  },
  {
   "cell_type": "code",
   "execution_count": 126,
   "metadata": {},
   "outputs": [
    {
     "data": {
      "text/plain": [
       "longitude             False\n",
       "latitude              False\n",
       "housing_median_age    False\n",
       "total_rooms           False\n",
       "total_bedrooms        False\n",
       "population            False\n",
       "households            False\n",
       "median_income         False\n",
       "dtype: bool"
      ]
     },
     "execution_count": 126,
     "metadata": {},
     "output_type": "execute_result"
    }
   ],
   "source": [
    "housing_transformed = pd.DataFrame(X, columns = housing_num.columns)\n",
    "housing_transformed.isnull().any() # check for missing values in columns"
   ]
  },
  {
   "cell_type": "markdown",
   "metadata": {},
   "source": [
    "## handling categoricals"
   ]
  },
  {
   "cell_type": "code",
   "execution_count": 128,
   "metadata": {},
   "outputs": [
    {
     "data": {
      "text/plain": [
       "array(['<1H OCEAN', 'INLAND', 'ISLAND', 'NEAR BAY', 'NEAR OCEAN'],\n",
       "      dtype=object)"
      ]
     },
     "execution_count": 128,
     "metadata": {},
     "output_type": "execute_result"
    }
   ],
   "source": [
    "from sklearn.preprocessing import LabelEncoder\n",
    "encoder = LabelEncoder()   # we first encode the values with numbers be4 they are fed to model\n",
    "housing_cat = housing['ocean_proximity']\n",
    "housing_cat_enc = encoder.fit_transform(housing_cat)\n",
    "housing_cat_enc\n",
    "encoder.classes_"
   ]
  },
  {
   "cell_type": "code",
   "execution_count": 97,
   "metadata": {},
   "outputs": [
    {
     "data": {
      "text/plain": [
       "'fromm the cell above we notice that there a only four classes and some classes are more than the others. \\n\\nthis could lead to bias if its not checked. we need to create a binary category for each of the class. OneHotEnccoder\\nto the rescue. and OneHotEncoder can only work if we have already encoded the categorical column or columna with \\nLabelEncoder.\\n'"
      ]
     },
     "execution_count": 97,
     "metadata": {},
     "output_type": "execute_result"
    }
   ],
   "source": [
    "'''fromm the cell above we notice that there a only four classes and some classes are more than the others. \n",
    "\n",
    "this could lead to bias if its not checked. we need to create a binary category for each of the class. OneHotEnccoder\n",
    "to the rescue. and OneHotEncoder can only work if we have already encoded the categorical column or columna with \n",
    "LabelEncoder.\n",
    "'''"
   ]
  },
  {
   "cell_type": "markdown",
   "metadata": {},
   "source": [
    "### fromm the cell above we notice that there a only five classes and some classes are more than the others. this could lead to bias if its not checked. we need to create a binary category for each of the class. OneHotEnccoder to the rescue."
   ]
  },
  {
   "cell_type": "markdown",
   "metadata": {},
   "source": [
    "### And OneHotEncoder can only work if we have already encoded the categorical column or columns with LabelEncoder."
   ]
  },
  {
   "cell_type": "code",
   "execution_count": 129,
   "metadata": {},
   "outputs": [
    {
     "data": {
      "text/plain": [
       "array([[1., 0., 0., 0., 0.],\n",
       "       [0., 1., 0., 0., 0.],\n",
       "       [0., 1., 0., 0., 0.],\n",
       "       ...,\n",
       "       [1., 0., 0., 0., 0.],\n",
       "       [1., 0., 0., 0., 0.],\n",
       "       [0., 0., 0., 1., 0.]])"
      ]
     },
     "execution_count": 129,
     "metadata": {},
     "output_type": "execute_result"
    }
   ],
   "source": [
    "from sklearn.preprocessing import OneHotEncoder\n",
    "\n",
    "encoder = OneHotEncoder(sparse=False) #pass the sparse=false arg to output a numpy array\n",
    "housing_cat_1hot = encoder.fit_transform(housing_cat_enc.reshape(-1, 1))\n",
    "housing_cat_1hot"
   ]
  },
  {
   "cell_type": "code",
   "execution_count": 132,
   "metadata": {},
   "outputs": [
    {
     "data": {
      "text/plain": [
       "array([[ 0.47860651, -0.72429985,  0.51304094, ...,  0.08162818,\n",
       "         0.40148104,  1.05726701],\n",
       "       [ 1.79847097, -1.09385611, -1.63510479, ..., -1.21503062,\n",
       "        -1.25751632, -1.26820225],\n",
       "       [-0.59222692,  1.44158054, -0.04388573, ...,  0.51473712,\n",
       "         1.00283462, -0.90312359],\n",
       "       ...,\n",
       "       [ 0.60312203, -0.76172327,  0.59260189, ...,  0.29062325,\n",
       "         0.06915407, -0.49443611],\n",
       "       [-1.17994015,  0.89894096, -1.07817812, ...,  0.30929941,\n",
       "         0.15355457,  0.97580405],\n",
       "       [-1.4090487 ,  0.98782158,  1.86557714, ...,  1.05812432,\n",
       "         1.95497778, -0.683918  ]])"
      ]
     },
     "execution_count": 132,
     "metadata": {},
     "output_type": "execute_result"
    }
   ],
   "source": [
    "from sklearn.pipeline import Pipeline\n",
    "from sklearn.preprocessing import StandardScaler\n",
    "\n",
    "# creating a pipeeline for all the numerical attriibutes of the dataset first\n",
    "num_pipeline = Pipeline([\n",
    "    ('imputer', Imputer(strategy='median')),\n",
    "    ('std_scaler', StandardScaler())\n",
    "])\n",
    "\n",
    "houaing_num_transform=(num_pipeline.fit_transform(housing_num))\n",
    "houaing_num_transform"
   ]
  },
  {
   "cell_type": "code",
   "execution_count": 133,
   "metadata": {},
   "outputs": [],
   "source": [
    "from sklearn.base import BaseEstimator, TransformerMixin\n",
    "\n",
    "# so whats happening here is that i want to pass my dataframe to the pipeline i created earlier to fully automate the\n",
    "#the process, so i create a custom transformation below that accepts the numerical values of the dataset still in df \n",
    "# form and coverts it to a numPy array since Scikit-Learn doesn't handle DataFrames yet\n",
    "\n",
    "# dataframeselector would also make it poossible for u to select the categorical or numerical columns and which\n",
    "# to pass into the dataframe.\n",
    "\n",
    "#its still a process as i would still have to create a transformer for the categorical attributes too. and then combine\n",
    "# those transformers later using sklearns FeatureUnion class\n",
    "\n",
    "class DataFrameSelector(BaseEstimator, TransformerMixin):   #search on what these two does and how they work\n",
    "    def __init__(self, attribute_names):\n",
    "        self.attribute_names = attribute_names\n",
    "    def fit(self, X, y=None):\n",
    "        return self\n",
    "    def transform(self, X):\n",
    "        return X[self.attribute_names].values"
   ]
  },
  {
   "cell_type": "code",
   "execution_count": 137,
   "metadata": {},
   "outputs": [
    {
     "data": {
      "text/plain": [
       "array([[1., 0., 0., 0., 0.],\n",
       "       [0., 1., 0., 0., 0.],\n",
       "       [0., 1., 0., 0., 0.],\n",
       "       ...,\n",
       "       [1., 0., 0., 0., 0.],\n",
       "       [1., 0., 0., 0., 0.],\n",
       "       [0., 0., 0., 1., 0.]])"
      ]
     },
     "execution_count": 137,
     "metadata": {},
     "output_type": "execute_result"
    }
   ],
   "source": [
    "num_attribs = list(housing_num)   # selecting only the numerical features\n",
    "cat_attribs = [\"ocean_prox\"]       # selecting only the categorical features\n",
    "\n",
    "num_pipeline = Pipeline([\n",
    "        ('selector', DataFrameSelector(num_attribs)),\n",
    "        ('imputer', Imputer(strategy=\"median\")),\n",
    "        ('std_scaler', StandardScaler()),\n",
    "    ])\n",
    "\n",
    "\n",
    "housing['ocean_prox'] = housing_cat_enc          # this part is dicey, i added the numerical column and dropped the categorical column\n",
    "model_housing = housing.drop('ocean_proximity', axis=1)\n",
    "\n",
    "cat_pipeline = Pipeline([\n",
    "        ('selector', DataFrameSelector(cat_attribs)),\n",
    "        ('one_hot_encoder', OneHotEncoder(sparse=False)),\n",
    "    ])\n",
    "\n",
    "housingprep= cat_pipeline.fit_transform(model_housing)\n",
    "housingprep"
   ]
  },
  {
   "cell_type": "code",
   "execution_count": 102,
   "metadata": {},
   "outputs": [],
   "source": [
    "# combining the categorical and numerical pipeline together using FeatureUnion\n",
    "from sklearn.pipeline import FeatureUnion\n",
    "full_pipeline = FeatureUnion(transformer_list=[\n",
    "        (\"num_pipeline\", num_pipeline),\n",
    "        (\"cat_pipeline\", cat_pipeline),\n",
    "    ])"
   ]
  },
  {
   "cell_type": "code",
   "execution_count": 103,
   "metadata": {},
   "outputs": [
    {
     "data": {
      "text/plain": [
       "(12384, 13)"
      ]
     },
     "execution_count": 103,
     "metadata": {},
     "output_type": "execute_result"
    }
   ],
   "source": [
    "final_housing = full_pipeline.fit_transform(model_housing)   # final transformed ready for modelling\n",
    "final_housing.shape                                         #  check the number of rows and columns"
   ]
  },
  {
   "cell_type": "markdown",
   "metadata": {},
   "source": [
    "## Now time to Build a model with the so-called random sampling split"
   ]
  },
  {
   "cell_type": "code",
   "execution_count": 138,
   "metadata": {},
   "outputs": [
    {
     "data": {
      "text/plain": [
       "LinearRegression(copy_X=True, fit_intercept=True, n_jobs=1, normalize=False)"
      ]
     },
     "execution_count": 138,
     "metadata": {},
     "output_type": "execute_result"
    }
   ],
   "source": [
    "from sklearn.linear_model import LinearRegression\n",
    "\n",
    "lr = LinearRegression()\n",
    "lr.fit(final_housing, housing_labels)"
   ]
  },
  {
   "cell_type": "code",
   "execution_count": 148,
   "metadata": {},
   "outputs": [
    {
     "data": {
      "text/plain": [
       "148926.4019357199"
      ]
     },
     "execution_count": 148,
     "metadata": {},
     "output_type": "execute_result"
    }
   ],
   "source": [
    "# LinearRegrassion Algorithm \n",
    "#rmse = 115127\n",
    "#r2 = something very unimaginable. uncomment the code to see\n",
    "\n",
    "from sklearn.metrics import mean_squared_error, r2_score\n",
    "model_predictions = lr.predict(final_housing)\n",
    "mse = mean_squared_error(housing_labels, model_predictions)\n",
    "rmse = np.sqrt(mse)\n",
    "rmse\n",
    "\n",
    "#r2 score\n",
    "#acc = r2_score(housing_labels, model_predictions)\n",
    "#acc"
   ]
  },
  {
   "cell_type": "code",
   "execution_count": 147,
   "metadata": {},
   "outputs": [
    {
     "data": {
      "text/plain": [
       "' so i have been able to establish that stratified sampling is quite better'"
      ]
     },
     "execution_count": 147,
     "metadata": {},
     "output_type": "execute_result"
    }
   ],
   "source": [
    "''' so i have been able to establish that stratified sampling is quite better'''"
   ]
  },
  {
   "cell_type": "markdown",
   "metadata": {},
   "source": [
    "## Now let's check with our Randomly generated test-set"
   ]
  },
  {
   "cell_type": "code",
   "execution_count": null,
   "metadata": {},
   "outputs": [],
   "source": [
    "# we already have a pipeline. so its just to fit and transform the test set in the pipeline. \n",
    "# this is the importance of pipeline in a machine modelling project. imagine how much time it would cost us to go over\n",
    "# all the feature transformation again\n"
   ]
  },
  {
   "cell_type": "code",
   "execution_count": 149,
   "metadata": {},
   "outputs": [
    {
     "data": {
      "text/plain": [
       "(8256, 13)"
      ]
     },
     "execution_count": 149,
     "metadata": {},
     "output_type": "execute_result"
    }
   ],
   "source": [
    "housing_test = test_set.drop('median_house_value', axis=1)    # creating the train set(for the reserved testset)\n",
    "housing_test_labels =  test_set['median_house_value'].copy()  # creating the test set((for the reserved testset))\n",
    "#housing_test_labels.head()  \n",
    "\n",
    "\n",
    "# we have to label encode this one. we cant use the encoded values from the testset as they are of different shapes\n",
    "\n",
    "from sklearn.preprocessing import LabelEncoder\n",
    "encoder = LabelEncoder()   # we first encode the values with numbers be4 they are fed to model\n",
    "housing_cat = housing_test['ocean_proximity']\n",
    "housing_cat_enc = encoder.fit_transform(housing_cat)\n",
    "housing_cat_enc\n",
    "encoder.classes_\n",
    "\n",
    "housing_test['ocean_prox'] = housing_cat_enc\n",
    "housing_test1 = housing_test.drop('ocean_proximity', axis=1)\n",
    "\n",
    "# passing the test data to the pipeline!!\n",
    "\n",
    "final_housing_test = full_pipeline.fit_transform(housing_test1)\n",
    "final_housing_test.shape"
   ]
  },
  {
   "cell_type": "code",
   "execution_count": 150,
   "metadata": {},
   "outputs": [
    {
     "data": {
      "text/plain": [
       "LinearRegression(copy_X=True, fit_intercept=True, n_jobs=1, normalize=False)"
      ]
     },
     "execution_count": 150,
     "metadata": {},
     "output_type": "execute_result"
    }
   ],
   "source": [
    "# Modelling the testset data\n",
    "\n",
    "from sklearn.linear_model import LinearRegression\n",
    "\n",
    "lr = LinearRegression()\n",
    "lr.fit(final_housing_test, housing_test_labels)"
   ]
  },
  {
   "cell_type": "code",
   "execution_count": 151,
   "metadata": {},
   "outputs": [
    {
     "data": {
      "text/plain": [
       "69256.81717860166"
      ]
     },
     "execution_count": 151,
     "metadata": {},
     "output_type": "execute_result"
    }
   ],
   "source": [
    "# LinearRegrassion Algorithm \n",
    "#rmse = 69036\n",
    "#r2 = 64\n",
    "\n",
    "from sklearn.metrics import mean_squared_error, r2_score\n",
    "model_predictions = lr.predict(final_housing_test)\n",
    "mse = mean_squared_error(housing_test_labels, model_predictions)\n",
    "rmse = np.sqrt(mse)\n",
    "rmse\n",
    "\n",
    "#r2 score\n",
    "#acc = r2_score(housing_labels, model_predictions)\n",
    "#acc"
   ]
  },
  {
   "cell_type": "code",
   "execution_count": null,
   "metadata": {},
   "outputs": [],
   "source": [
    "# This is even quite better! but cannot be compared with stratified sampling split"
   ]
  },
  {
   "cell_type": "code",
   "execution_count": null,
   "metadata": {},
   "outputs": [],
   "source": []
  }
 ],
 "metadata": {
  "kernelspec": {
   "display_name": "Python 3",
   "language": "python",
   "name": "python3"
  },
  "language_info": {
   "codemirror_mode": {
    "name": "ipython",
    "version": 3
   },
   "file_extension": ".py",
   "mimetype": "text/x-python",
   "name": "python",
   "nbconvert_exporter": "python",
   "pygments_lexer": "ipython3",
   "version": "3.6.4"
  }
 },
 "nbformat": 4,
 "nbformat_minor": 2
}
